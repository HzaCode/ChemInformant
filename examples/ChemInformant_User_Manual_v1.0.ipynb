{
 "cells": [
  {
   "cell_type": "markdown",
   "metadata": {},
   "source": [
    "# ChemInformant User Manual\n",
    "\n",
    "Welcome to `ChemInformant`! This manual will guide you through a journey from basic queries to advanced data analysis workflows, fully demonstrating how this library simplifies your interaction with the PubChem database.\n",
    "\n",
    "### Core Features at a Glance\n",
    "\n",
    "- **Analysis-Ready**: Core functions return clean Pandas DataFrames, ready for immediate analysis.\n",
    "- **Out-of-the-Box Robustness**: Comes with built-in caching, smart rate-limiting, and automatic retries, requiring zero configuration.\n",
    "- **Dual-Layer API**: Offers simple convenience functions for quick lookups and a powerful engine for high-performance batch operations.\n",
    "\n",
    "### Guide Overview\n",
    "\n",
    "1.  [**Installation & Setup**](#Installation-&-Setup)\n",
    "2.  [**Quick Start: Master the Core in Five Minutes**](#Quick-Start:-Master-the-Core-in-Five-Minutes)\n",
    "3.  [**The Convenience API: The Art of Quick Lookups**](#The-Convenience-API:-The-Art-of-Quick-Lookups)\n",
    "4.  [**Batch Data Retrieval & Analysis**](#Batch-Data-Retrieval-&-Analysis)\n",
    "5.  [**Advanced Applications: Solving Real-World Problems**](#Advanced-Applications:-Solving-Real-World-Problems)\n",
    "6.  [**Data Export: Sharing Your Results**](#Data-Export:-Sharing-Your-Results)"
   ]
  },
  {
   "cell_type": "markdown",
   "metadata": {},
   "source": [
    "## Installation & Setup\n",
    "\n",
    "First, ensure you have ChemInformant installed. To run all examples in this manual, we recommend installing it with the `plot` and analysis extras."
   ]
  },
  {
   "cell_type": "code",
   "execution_count": null,
   "metadata": {},
   "outputs": [],
   "source": [
    "# Run the following command in your terminal:\n",
    "!pip install \"ChemInformant[all]\""
   ]
},
  {
   "cell_type": "code",
   "execution_count": null,
   "metadata": {},
   "outputs": [],
   "source": [
    "# Import all necessary libraries\n",
    "import ChemInformant as ci\n",
    "import pandas as pd\n",
    "import matplotlib.pyplot as plt\n",
    "import seaborn as sns\n",
    "from sklearn.preprocessing import StandardScaler\n",
    "from sklearn.cluster import KMeans\n",
    "from IPython.display import display, Image\n",
    "\n",
    "# Configure display options for the best visualization experience\n",
    "pd.set_option('display.max_columns', None)\n",
    "pd.set_option('display.width', 120)\n",
    "sns.set_theme(style=\"whitegrid\", context=\"talk\")\n",
    "\n",
    "print(f\"ChemInformant loaded successfully!\")"
   ]
  },
  {
   "cell_type": "markdown",
   "metadata": {},
   "source": [
    "## Quick Start: Master the Core in Five Minutes\n",
    "\n",
    "The most powerful feature of `ChemInformant` is the `get_properties` function. It allows you to go from a list of compound names to an analysis-ready data table in a single line of code."
   ]
  },
  {
   "cell_type": "code",
   "execution_count": null,
   "metadata": {},
   "outputs": [],
   "source": [
    "# 1. Define the compounds and properties you are interested in\n",
    "identifiers = [\"aspirin\", \"caffeine\", \"paracetamol\"]\n",
    "properties = [\"molecular_weight\", \"xlogp\", \"molecular_formula\", \"cas\"]\n",
    "\n",
    "# 2. ✨ Get all data with a single function call!\n",
    "df = ci.get_properties(identifiers, properties)\n",
    "\n",
    "# 3. The result is immediately available for analysis\n",
    "print(\"DataFrame returned by ChemInformant:\")\n",
    "display(df)"
   ]
  },
  {
   "cell_type": "markdown",
   "metadata": {},
   "source": [
    "## The Convenience API: The Art of Quick Lookups\n",
    "\n",
    "For everyday, quick lookups of single properties, ChemInformant provides a series of clearly named convenience functions."
   ]
  },
  {
   "cell_type": "markdown",
   "metadata": {},
   "source": [
    "### 3.1 Using Convenience Functions\n",
    "\n",
    "These functions follow the intuitive `get_<property>()` pattern."
   ]
  },
 {
   "cell_type": "code",
   "execution_count": null,
   "metadata": {},
   "outputs": [],
   "source": [
    "compound = \"ibuprofen\"\n",
    "\n",
    "# Basic properties\n",
    "print(f\"Molecular weight : {ci.get_weight(compound)} g/mol\")\n",
    "print(f\"Formula          : {ci.get_formula(compound)}\")\n",
    "print(f\"CAS RN           : {ci.get_cas(compound)}\")\n",
    "print(f\"IUPAC name       : {ci.get_iupac_name(compound)}\")\n",
    "print(f\"LogP (XLogP)     : {ci.get_xlogp(compound)}\")\n",
    "\n",
    "# SMILES\n",
    "print(f\"\\nCanonical SMILES : {ci.get_canonical_smiles(compound)}\")\n",
    "\n",
    "# 2-D structure\n",
    "print(\"\\n2-D structure:\")\n",
    "ci.draw_compound(compound)          \n",
    "\n",
    "# Compound object\n",
    "obj = ci.get_compound(compound)\n",
    "print(f\"\\nPubChem CID  : {obj.cid}\")\n",
    "print(f\"PubChem URL  : {obj.pubchem_url}\")"
   ]
  },
  {
   "cell_type": "markdown",
   "metadata": {},
   "source": [
    "### 3.2 Support for Multiple Identifier Types\n",
    "\n",
    "All convenience and core functions support various types of inputs. ChemInformant resolves them for you automatically in the background."
   ]
  },
  {
   "cell_type": "code",
   "execution_count": null,
   "metadata": {},
   "outputs": [],
   "source": [
    "# Support for Name, CID, SMILES, etc.\n",
    "test_identifiers = [\n",
    "    \"aspirin\",                        # Common Name\n",
    "    \"acetylsalicylic acid\",           # Chemical Name\n",
    "    2244,                             # PubChem CID\n",
    "    \"CC(=O)OC1=CC=CC=C1C(=O)O\"        # SMILES String\n",
    "]\n",
    "\n",
    "results = ci.get_properties(test_identifiers, ['molecular_weight'])\n",
    "\n",
    "print(\"Query results for different identifier types:\")\n",
    "display(results[['input_identifier', 'cid', 'molecular_weight', 'status']])"
   ]
  },
  {
   "cell_type": "markdown",
   "metadata": {},
   "source": [
    "## Batch Data Retrieval & Analysis\n",
    "\n",
    "The true power of `get_properties` shines when you need to process a large number of compounds."
   ]
  },
  {
   "cell_type": "code",
   "execution_count": null,
   "metadata": {},
   "outputs": [],
   "source": [
    "# 1. Define a list of 12 common drugs\n",
    "drugs = [\n",
    "    \"aspirin\", \"ibuprofen\", \"paracetamol\", \"naproxen\",\n",
    "    \"penicillin\", \"amoxicillin\", \"ciprofloxacin\",\n",
    "    \"lisinopril\", \"amlodipine\", \"metoprolol\",\n",
    "    \"atorvastatin\", \"simvastatin\"\n",
    "]\n",
    "\n",
    "# 2. Define all properties to retrieve in bulk\n",
    "props = [\n",
    "    \"molecular_weight\", \"molecular_formula\", \"canonical_smiles\", \n",
    "    \"xlogp\", \"iupac_name\", \"cas\", \"synonyms\"\n",
    "]\n",
    "\n",
    "# 3. Execute the batch query\n",
    "# ci.setup_cache(backend=\"memory\") # If needed, you can switch to memory cache for quick tests\n",
    "df_bulk = ci.get_properties(drugs, props)\n",
    "\n",
    "print(f\"Successfully queried: {len(df_bulk[df_bulk['status'] == 'OK'])} / {len(drugs)}\")\n",
    "display(df_bulk.head())"
   ]
  },
  {
   "cell_type": "markdown",
   "metadata": {},
   "source": [
    "### Data Analysis and Visualization\n",
    "\n",
    "The returned DataFrame can be directly fed into data analysis and visualization pipelines."
   ]
  },
  {
   "cell_type": "code",
   "execution_count": null,
   "metadata": {},
   "outputs": [],
   "source": [
    "# 1. Data cleaning and preparation\n",
    "analysis_df = df_bulk[df_bulk['status'] == 'OK'].copy()\n",
    "analysis_df['molecular_weight'] = pd.to_numeric(analysis_df['molecular_weight'])\n",
    "analysis_df['xlogp'] = pd.to_numeric(analysis_df['xlogp'])\n",
    "\n",
    "# 2. Calculate descriptive statistics\n",
    "print(\"Descriptive Statistics of Drug Properties:\")\n",
    "display(analysis_df[['molecular_weight', 'xlogp']].describe().round(2))\n",
    "\n",
    "# 3. Visualization\n",
    "fig, (ax1, ax2) = plt.subplots(1, 2, figsize=(18, 7))\n",
    "\n",
    "sns.histplot(analysis_df['molecular_weight'], kde=True, ax=ax1)\n",
    "ax1.set_title('Distribution of Molecular Weights')\n",
    "\n",
    "sns.scatterplot(data=analysis_df, x='molecular_weight', y='xlogp', s=100, ax=ax2)\n",
    "ax2.set_title('Molecular Weight vs. Lipophilicity (XLogP)')\n",
    "\n",
    "plt.tight_layout()\n",
    "plt.show()"
   ]
  },
  {
   "cell_type": "markdown",
   "metadata": {},
   "source": [
    "## Advanced Applications: Solving Real-World Problems\n",
    "\n",
    "This section showcases two advanced use cases, demonstrating the value of `ChemInformant` in practical research scenarios."
   ]
  },
  {
   "cell_type": "markdown",
   "metadata": {},
   "source": [
    "### Case 1: Drug-Likeness Assessment (Lipinski's Rule of Five)"
   ]
  },
  {
   "cell_type": "code",
   "execution_count": null,
   "metadata": {},
   "outputs": [],
   "source": [
    "# A simple function to check Lipinski's Rule (MW <= 500, LogP <= 5)\n",
    "def check_lipinski(df):\n",
    "    df['is_druglike'] = (df['molecular_weight'] <= 500) & (df['xlogp'] <= 5)\n",
    "    return df\n",
    "\n",
    "analysis_df = check_lipinski(analysis_df)\n",
    "print(f\"Drug-likeness analysis result: {analysis_df['is_druglike'].sum()}/{len(analysis_df)} compounds passed the rule.\")\n",
    "\n",
    "# Visualize the results\n",
    "plt.figure(figsize=(10, 8))\n",
    "sns.scatterplot(data=analysis_df, x='molecular_weight', y='xlogp', \n",
    "                hue='is_druglike', style='is_druglike', \n",
    "                s=150, palette={True: 'green', False: 'red'})\n",
    "plt.axvline(x=500, color='grey', linestyle='--', label='MW = 500')\n",
    "plt.axhline(y=5, color='grey', linestyle='--', label='XLogP = 5')\n",
    "plt.title('Drug-like Chemical Space & Lipinski Rule Assessment')\n",
    "plt.legend()\n",
    "plt.show()"
   ]
  },
  {
   "cell_type": "markdown",
   "metadata": {},
   "source": [
    "### Case 2: Clustering Similar Drugs with Machine Learning"
   ]
  },
  {
   "cell_type": "code",
   "execution_count": null,
   "metadata": {},
   "outputs": [],
   "source": [
    "# 1. Prepare features for clustering\n",
    "features_df = analysis_df[['molecular_weight', 'xlogp']].dropna()\n",
    "features_scaled = StandardScaler().fit_transform(features_df)\n",
    "\n",
    "# 2. Cluster using K-Means algorithm (finding 3 clusters)\n",
    "kmeans = KMeans(n_clusters=3, random_state=42, n_init='auto')\n",
    "analysis_df.loc[features_df.index, 'cluster'] = kmeans.fit_predict(features_scaled)\n",
    "\n",
    "# 3. Visualize the clustering results\n",
    "plt.figure(figsize=(14, 9))\n",
    "sns.scatterplot(data=analysis_df, x='molecular_weight', y='xlogp', \n",
    "                          hue='cluster', palette='viridis', s=200, \n",
    "                          style='input_identifier', markers=True, legend='full')\n",
    "plt.title('Drug Clustering based on Physicochemical Properties')\n",
    "plt.legend(title='Cluster', bbox_to_anchor=(1.05, 1), loc='upper left')\n",
    "plt.show()"
   ]
  },
  {
   "cell_type": "markdown",
   "metadata": {},
   "source": [
    "## Data Export: Sharing Your Results\n",
    "\n",
    "Finally, all data retrieved and processed with `ChemInformant` can be easily exported into various common formats."
   ]
  },
  {
   "cell_type": "code",
   "execution_count": null,
   "metadata": {},
   "outputs": [],
   "source": [
    "from datetime import datetime\n",
    "\n",
    "# 1. Export to a CSV file\n",
    "csv_filename = f\"drug_properties_{datetime.now().strftime('%Y%m%d')}.csv\"\n",
    "analysis_df.to_csv(csv_filename, index=False)\n",
    "print(f\"✓ Data successfully saved to: {csv_filename}\")\n",
    "\n",
    "# 2. Export to an Excel file (with multiple sheets)\n",
    "with pd.ExcelWriter('drug_analysis.xlsx') as writer:\n",
    "    analysis_df.to_excel(writer, sheet_name='Raw Data', index=False)\n",
    "    analysis_df[['molecular_weight', 'xlogp']].describe().to_excel(writer, sheet_name='Summary Stats')\n",
    "print(\"✓ Excel file successfully created with 'Raw Data' and 'Summary Stats' sheets.\")\n",
    "\n",
    "# 3. Prepare a SMILES file for other cheminformatics tools\n",
    "smiles_df = analysis_df[['canonical_smiles', 'input_identifier']].dropna()\n",
    "smiles_df.to_csv('compounds_smiles.smi', sep='\\t', index=False, header=False)\n",
    "print(f\"✓ SMILES file (compounds_smiles.smi) successfully created with {len(smiles_df)} compounds.\")"
   ]
  },
  {
   "cell_type": "markdown",
   "metadata": {},
   "source": [
    "---\n",
    "##Further Information\n",
    "\n",
    "This manual has demonstrated how `ChemInformant` can be a powerful and reliable tool in your cheminformatics toolbox. We encourage you to explore its features further and connect with us through the following channels:\n",
    "\n",
    "- **Project Homepage & Source Code:** [https://github.com/HzaCode/ChemInformant](https://github.com/HzaCode/ChemInformant)\n",
    "- **Bugs & Feature Requests:** [GitHub Issues](https://github.com/HzaCode/ChemInformant/issues)"
   ]
  }
 ],
 "metadata": {
  "kernelspec": {
   "display_name": "Python 3",
   "language": "python",
   "name": "python3"
  },
  "language_info": {
   "codemirror_mode": {
    "name": "ipython",
    "version": 3
   },
   "file_extension": ".py",
   "mimetype": "text/x-python",
   "name": "python",
   "nbconvert_exporter": "python",
   "pygments_lexer": "ipython3",
   "version": "3.11.1"
  }
 },
 "nbformat": 4,
 "nbformat_minor": 4
}
